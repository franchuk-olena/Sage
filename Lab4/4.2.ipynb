{
 "cells": [
  {
   "cell_type": "code",
   "execution_count": null,
   "metadata": {
    "vscode": {
     "languageId": "plaintext"
    }
   },
   "outputs": [],
   "source": [
    "from sage.all import *\n",
    "\n",
    "\n",
    "S4 = SymmetricGroup(4)\n",
    "A4 = AlternatingGroup(4)\n",
    "S5 = SymmetricGroup(5)\n",
    "A5 = AlternatingGroup(5)\n",
    "\n",
    "def find_subgroups(group):\n",
    "    subgroups = group.subgroups()\n",
    "    print(f\"Підгрупи групи {group}:\")\n",
    "    for H in subgroups:\n",
    "        print(H)\n",
    "\n",
    "find_subgroups(S4)\n",
    "find_subgroups(A4)\n",
    "find_subgroups(S5)\n",
    "find_subgroups(A5)"
   ]
  }
 ],
 "metadata": {
  "language_info": {
   "name": "python"
  }
 },
 "nbformat": 4,
 "nbformat_minor": 2
}
