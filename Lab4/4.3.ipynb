{
 "cells": [
  {
   "cell_type": "code",
   "execution_count": null,
   "metadata": {
    "vscode": {
     "languageId": "plaintext"
    }
   },
   "outputs": [],
   "source": [
    "n = 5\n",
    "G = SymmetricGroup(n)\n",
    "\n",
    "# Визначаємо підстановки\n",
    "perm1 = Permutation([2, 5, 1, 3, 4])  \n",
    "perm2 = Permutation([2, 3, 1, 5, 4])\n",
    "\n",
    "\n",
    "def is_even_permutation(perm):\n",
    "    cycles = perm.cycle_type()\n",
    "    transpositions_count = sum(cycles) - len(cycles)\n",
    "    return transpositions_count % 2 == 0\n",
    "\n",
    "is_even1 = is_even_permutation(perm1)\n",
    "is_even2 = is_even_permutation(perm2)\n",
    "\n",
    "print(f\"Чи є перша підстановка парною? {'Так' if is_even1 else 'Ні'}\")\n",
    "print(f\"Чи є друга підстановка парною? {'Так' if is_even2 else 'Ні'}\")\n",
    "\n",
    "generated_group = PermutationGroup([perm1, perm2])\n",
    "generated_group_elements = set(generated_group.list())\n",
    "sn_elements = set(G.list())\n",
    "\n",
    "\n",
    "an_elements = {p for p in G if is_even_permutation(p)}\n",
    "\n",
    "\n",
    "if generated_group_elements == sn_elements:\n",
    "    print(\"Ця група дорівнює S_n\")\n",
    "elif generated_group_elements == an_elements:\n",
    "    print(\"Ця група дорівнює A_n\")\n",
    "else:\n",
    "    print(\"Ця група не є A_n або S_n\")"
   ]
  }
 ],
 "metadata": {
  "language_info": {
   "name": "python"
  }
 },
 "nbformat": 4,
 "nbformat_minor": 2
}
