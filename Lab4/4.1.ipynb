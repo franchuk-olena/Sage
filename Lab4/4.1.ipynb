{
 "cells": [
  {
   "cell_type": "code",
   "execution_count": null,
   "metadata": {
    "vscode": {
     "languageId": "plaintext"
    }
   },
   "outputs": [],
   "source": [
    "from sage.all import *\n",
    "\n",
    "\n",
    "G = SymmetricGroup(4)\n",
    "\n",
    "\n",
    "def is_generating_set(group, elements):\n",
    "    return group.subgroup(elements) == group\n",
    "\n",
    "generating_sets = []\n",
    "\n",
    "for subset in Subsets(G, G.order()):\n",
    "    if is_generating_set(G, subset):\n",
    "        generating_sets.append(subset)\n",
    "\n",
    "for gs in generating_sets:\n",
    "    print(gs)\n",
    "\n"
   ]
  }
 ],
 "metadata": {
  "language_info": {
   "name": "python"
  }
 },
 "nbformat": 4,
 "nbformat_minor": 2
}
