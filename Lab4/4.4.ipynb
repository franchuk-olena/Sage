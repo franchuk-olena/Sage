{
 "cells": [
  {
   "cell_type": "code",
   "execution_count": null,
   "metadata": {
    "vscode": {
     "languageId": "plaintext"
    }
   },
   "outputs": [],
   "source": [
    "G = DihedralGroup(4) \n",
    "\n",
    "print(\"Порядок групи G (D4):\", G.order())\n",
    "\n",
    "subgroups_order_3 = [H for H in G.subgroups() if H.order() == 3]\n",
    "\n",
    "if subgroups_order_3:\n",
    "    print(\"Підгрупи порядку 3 існують:\", subgroups_order_3)\n",
    "else:\n",
    "    print(\"Підгрупи порядку 3 не існує.\")\n"
   ]
  }
 ],
 "metadata": {
  "language_info": {
   "name": "python"
  }
 },
 "nbformat": 4,
 "nbformat_minor": 2
}
