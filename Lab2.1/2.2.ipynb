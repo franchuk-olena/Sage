{
 "cells": [
  {
   "cell_type": "code",
   "execution_count": null,
   "metadata": {
    "vscode": {
     "languageId": "plaintext"
    }
   },
   "outputs": [],
   "source": [
    "from itertools import product\n",
    "\n",
    "def all_actions(space):\n",
    "    pairs = list(product(space, repeat=2))\n",
    "    all_operations = list(product(space, repeat=len(pairs)))\n",
    "    return pairs, all_operations\n",
    "\n",
    "def is_associative(space, pairs, action):\n",
    "    for x in space:\n",
    "        for y in space:\n",
    "            for z in space:\n",
    "                left_pair_1 = pairs.index((y, z))\n",
    "                left_pair_2 = pairs.index((x, action[left_pair_1]))\n",
    "                \n",
    "                right_pair_1 = pairs.index((x, y))\n",
    "                right_pair_2 = pairs.index((action[right_pair_1], z))\n",
    "                \n",
    "                if action[left_pair_2] != action[right_pair_2]:\n",
    "                    return False, (x, y, z)  \n",
    "    return True, None  \n",
    "\n",
    "space = {0, 1}\n",
    "pairs, all_operations = all_actions(space)\n",
    "associative_count = 0\n",
    "\n",
    "for op_index, operation in enumerate(all_operations):\n",
    "    is_assoc, counter_example = is_associative(space, pairs, operation)\n",
    "    if is_assoc:\n",
    "        print(f\"Операція {op_index + 1} асоціативна\")\n",
    "        associative_count += 1\n",
    "    else:\n",
    "        print(f\"Операція {op_index + 1} не асоціативна: {counter_example}\")\n",
    "\n",
    "print(f'Кількість асоціативних дій для {len(space)}-елементної множини: {associative_count}')"
   ]
  },
  {
   "cell_type": "code",
   "execution_count": null,
   "metadata": {
    "vscode": {
     "languageId": "plaintext"
    }
   },
   "outputs": [],
   "source": [
    "from itertools import product\n",
    "from sage.matrix.operation_table import OperationTable\n",
    "\n",
    "needed_set = [1, 2]\n",
    "def all_actions(space):\n",
    "    pairs = list(product(space, repeat=2))\n",
    "    all_operations = list(product(space, repeat=len(pairs)))\n",
    "    return pairs, all_operations\n",
    "\n",
    "pairs, all_operations = all_actions(needed_set)\n",
    "\n",
    "for op_index, operation in enumerate(all_operations):\n",
    "    print(f\"Бінарна дія і таблиця Келі {op_index + 1}:\")\n",
    "    for i, pair in enumerate(pairs):\n",
    "        \n",
    "        print(f\"{pair} -> {operation[i]}\")\n",
    "    \n",
    "    def _f(x, y, op=operation):\n",
    "        pair_index = pairs.index((x, y))\n",
    "        return op[pair_index] \n",
    "\n",
    "    \n",
    "    \n",
    "    table = OperationTable(needed_set, _f, names='elements')\n",
    "    \n",
    "    print(table)"
   ]
  }
 ],
 "metadata": {
  "language_info": {
   "name": "python"
  }
 },
 "nbformat": 4,
 "nbformat_minor": 2
}
