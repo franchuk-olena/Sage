{
 "cells": [
  {
   "cell_type": "code",
   "execution_count": null,
   "id": "948da7cc-ead8-4bf1-b90d-335702685f4a",
   "metadata": {},
   "outputs": [],
   "source": [
    "from itertools import product\n",
    "from sage.matrix.operation_table import OperationTable\n",
    "\n",
    "needed_set = [1, 2]\n",
    "\n",
    "def all_actions(space):\n",
    "    pairs = list(product(space, repeat=2))\n",
    "    all_operations = list(product(space, repeat=len(pairs)))\n",
    "    return pairs, all_operations\n",
    "\n",
    "pairs, all_operations = all_actions(needed_set)\n",
    "\n",
    "for op_index, operation in enumerate(all_operations):\n",
    "    print(f\"Бінарна дія і таблиця Келі {op_index + 1}:\")\n",
    "    \n",
    "    def _f(x, y):\n",
    "        pair_index = pairs.index((x, y))\n",
    "        return operation[pair_index] \n",
    "    for pair in pairs:\n",
    "        result = _f(*pair)\n",
    "        print(f\"{pair} -> {result}\")\n",
    "\n",
    "    table = OperationTable(needed_set, _f, names='elements')\n",
    "    print(table)"
   ]
  },
  {
   "cell_type": "code",
   "execution_count": null,
   "id": "bd161e78-04c7-403b-b5c5-ebd5b249c66b",
   "metadata": {},
   "outputs": [],
   "source": []
  }
 ],
 "metadata": {
  "kernelspec": {
   "display_name": "Python 3 (ipykernel)",
   "language": "python",
   "name": "python3"
  },
  "language_info": {
   "codemirror_mode": {
    "name": "ipython",
    "version": 3
   },
   "file_extension": ".py",
   "mimetype": "text/x-python",
   "name": "python",
   "nbconvert_exporter": "python",
   "pygments_lexer": "ipython3",
   "version": "3.13.0"
  }
 },
 "nbformat": 4,
 "nbformat_minor": 5
}
