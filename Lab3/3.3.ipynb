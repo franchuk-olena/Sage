{
 "cells": [
  {
   "cell_type": "code",
   "execution_count": null,
   "metadata": {
    "vscode": {
     "languageId": "plaintext"
    }
   },
   "outputs": [],
   "source": [
    "from sage.groups.perm_gps.permgroup_named import PermutationGroup\n",
    "\n",
    "def lcm(a, b):\n",
    "    return a * b // gcd(a, b)\n",
    "\n",
    "def lcm_list(numbers):\n",
    "    curr_lcm = numbers[0]\n",
    "    for num in numbers[1:]:\n",
    "        curr_lcm = lcm(curr_lcm, num)\n",
    "    return curr_lcm\n",
    "\n",
    "def sum_of_prime_powers(k):\n",
    "    factors = k.factor() \n",
    "    return sum(p ** e for p, e in factors)\n",
    "\n",
    "def is_sum_in_limit(k, limit):\n",
    "    return sum_of_prime_powers(k) <= limit\n",
    "\n",
    "# Вхідні дані\n",
    "n = int(input(\"Введіть значення n: \"))\n",
    "o = int(input(\"Введіть значення o: \"))\n",
    "\n",
    "\n",
    "res = is_sum_in_limit(o, n)\n",
    "print( res)\n",
    "\n"
   ]
  }
 ],
 "metadata": {
  "language_info": {
   "name": "python"
  }
 },
 "nbformat": 4,
 "nbformat_minor": 2
}
