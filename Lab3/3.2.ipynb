{
 "cells": [
  {
   "cell_type": "code",
   "execution_count": null,
   "metadata": {
    "vscode": {
     "languageId": "plaintext"
    }
   },
   "outputs": [],
   "source": [
    "from sage.combinat.partition import Partitions\n",
    "from sage.arith.all import lcm\n",
    "\n",
    "\n",
    "for el in Partitions(100):\n",
    "    print(lcm(el), end=' ')\n",
    "\n",
    "\n",
    "count = {}\n",
    "for el in Partitions(100):\n",
    "    cur = lcm(el)\n",
    "    if cur in count:\n",
    "        count[cur] += 1\n",
    "    else:\n",
    "        count[cur] = 1\n",
    "\n",
    "#  результат\n",
    "print(\"\\n\", count)"
   ]
  }
 ],
 "metadata": {
  "language_info": {
   "name": "python"
  }
 },
 "nbformat": 4,
 "nbformat_minor": 2
}
